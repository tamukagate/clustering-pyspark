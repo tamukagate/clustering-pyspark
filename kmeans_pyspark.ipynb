{
  "cells": [
    {
      "cell_type": "markdown",
      "metadata": {
        "id": "L1LcIcnPPXpf"
      },
      "source": [
        "Setting up PySpark in Colab"
      ]
    },
    {
      "cell_type": "code",
      "execution_count": null,
      "metadata": {
        "id": "bazUXz-wPaR-"
      },
      "outputs": [],
      "source": [
        "# download Java\n",
        "\n",
        "!apt-get install openjdk-8-jdk-headless -qq > /dev/null"
      ]
    },
    {
      "cell_type": "code",
      "execution_count": null,
      "metadata": {
        "id": "vETByglTWuBU"
      },
      "outputs": [],
      "source": [
        "# download Apache Spark and unzip file\n",
        "\n",
        "!wget -q https://dlcdn.apache.org/spark/spark-3.3.2/spark-3.3.2-bin-hadoop3.tgz -O file.tgz\n",
        "!tar xf file.tgz"
      ]
    },
    {
      "cell_type": "code",
      "execution_count": null,
      "metadata": {
        "id": "677du5iaWyhe"
      },
      "outputs": [],
      "source": [
        "# install findspark library which will locate Spark on the system and install it as a regular library\n",
        "\n",
        "!pip install -q findspark"
      ]
    },
    {
      "cell_type": "markdown",
      "metadata": {
        "id": "cUdoAy0dTzY4"
      },
      "source": [
        "Setting the environment path"
      ]
    },
    {
      "cell_type": "code",
      "execution_count": null,
      "metadata": {
        "id": "aQk-_hrnTxh6"
      },
      "outputs": [],
      "source": [
        "import os\n",
        "os.environ[\"JAVA_HOME\"] = \"/usr/lib/jvm/java-8-openjdk-amd64\"\n",
        "os.environ[\"SPARK_HOME\"] = \"/content/spark-3.3.2-bin-hadoop3\""
      ]
    },
    {
      "cell_type": "markdown",
      "metadata": {
        "id": "O61cM7weUygs"
      },
      "source": [
        "Locating Spark in the system"
      ]
    },
    {
      "cell_type": "code",
      "execution_count": null,
      "metadata": {
        "colab": {
          "base_uri": "https://localhost:8080/",
          "height": 35
        },
        "id": "FpCXhB95UfXL",
        "outputId": "3ad1af03-4976-4f15-e479-5fb670739199"
      },
      "outputs": [
        {
          "output_type": "execute_result",
          "data": {
            "text/plain": [
              "'/content/spark-3.3.2-bin-hadoop3'"
            ],
            "application/vnd.google.colaboratory.intrinsic+json": {
              "type": "string"
            }
          },
          "metadata": {},
          "execution_count": 5
        }
      ],
      "source": [
        "import findspark\n",
        "findspark.init()\n",
        "findspark.find()"
      ]
    },
    {
      "cell_type": "markdown",
      "metadata": {
        "id": "IKLlilLmNrZ5"
      },
      "source": [
        "Importing modules"
      ]
    },
    {
      "cell_type": "code",
      "execution_count": null,
      "metadata": {
        "id": "vNwFslX1Ndzg"
      },
      "outputs": [],
      "source": [
        "from pyspark.ml.clustering import KMeans\n",
        "from pyspark.ml.feature import VectorAssembler\n",
        "from pyspark.sql import SparkSession\n",
        "from pyspark.sql.functions import *"
      ]
    },
    {
      "cell_type": "markdown",
      "metadata": {
        "id": "HjVfBtuSOGup"
      },
      "source": [
        "Creating spark session"
      ]
    },
    {
      "cell_type": "code",
      "execution_count": null,
      "metadata": {
        "id": "ximdYjiAOObn"
      },
      "outputs": [],
      "source": [
        "appName = \"k-means clustering apache spark\"\n",
        "spark = SparkSession \\\n",
        "    .builder \\\n",
        "    .appName(appName) \\\n",
        "    .getOrCreate()"
      ]
    },
    {
      "cell_type": "markdown",
      "metadata": {
        "id": "iD_VVb-niTwn"
      },
      "source": [
        "Loading data into PySpark"
      ]
    },
    {
      "cell_type": "markdown",
      "metadata": {
        "id": "2I76zlRZkVK9"
      },
      "source": [
        "Data preparation"
      ]
    },
    {
      "cell_type": "code",
      "execution_count": null,
      "metadata": {
        "id": "aDCnnldgiVRf",
        "colab": {
          "base_uri": "https://localhost:8080/"
        },
        "outputId": "1eec432c-5392-4e64-8126-3908d2ae732c"
      },
      "outputs": [
        {
          "output_type": "stream",
          "name": "stdout",
          "text": [
            "+--------------------+--------------------+--------------------+\n",
            "|             book_id|                name|         description|\n",
            "+--------------------+--------------------+--------------------+\n",
            "|                4833|   The Glass Castle |A tender, moving ...|\n",
            "|Jeannette Walls g...| they lived like ...| moving among Sou...|\n",
            "|               Later| when the money r...| or the romance o...|\n",
            "|What is so astoni...| but that she des...|   but also a tender|\n",
            "|     For two decades| Jeannette Walls ...|                null|\n",
            "|                 590|Night (The Night ...|Born into a Jewis...|\n",
            "|                4264|Angela's Ashes (F...|Imbued on every p...|\n",
            "|\"\"When I look bac...|           of course| a miserable chil...|\n",
            "|So begins the Pul...| born in Depressi...| Ireland. Frank's...|\n",
            "|Perhaps it is sto...| begging a pig's ...| Frank endures po...|\n",
            "|      Angela's Ashes| imbued on every ...| is a glorious bo...|\n",
            "|                3361|    Eat, Pray, Love |A celebrated writ...|\n",
            "|Around the time E...| she went through...| ambitious Americ...|\n",
            "|To recover from a...| Gilbert took a r...| she got rid of h...|\n",
            "|An intensely arti...|                 Eat|                Pray|\n",
            "|                4535|Into Thin Air: A ...|\"A bank of clouds...|\n",
            "|                 518|Tuesdays with Mor...|Maybe it was a gr...|\n",
            "|               Maybe|          like Mitch| you lost track o...|\n",
            "|Mitch Albom had t...| just as they use...|                null|\n",
            "|                3781|Running with Scis...|The true story of...|\n",
            "+--------------------+--------------------+--------------------+\n",
            "only showing top 20 rows\n",
            "\n"
          ]
        }
      ],
      "source": [
        "# read csv file\n",
        "# the inferSchema parameter provided will enable Spark to automatically determine the data type for each column when set to true\n",
        "\n",
        "books = spark.read.csv('description.csv', inferSchema=False, header=True)\n",
        "books.show()"
      ]
    },
    {
      "cell_type": "code",
      "source": [
        "books.printSchema()"
      ],
      "metadata": {
        "id": "LtVD_6IU0ru-",
        "colab": {
          "base_uri": "https://localhost:8080/"
        },
        "outputId": "d4232567-b521-465d-d3fd-6c23dd5d6fb3"
      },
      "execution_count": null,
      "outputs": [
        {
          "output_type": "stream",
          "name": "stdout",
          "text": [
            "root\n",
            " |-- book_id: string (nullable = true)\n",
            " |-- name: string (nullable = true)\n",
            " |-- description: string (nullable = true)\n",
            "\n"
          ]
        }
      ]
    },
    {
      "cell_type": "code",
      "source": [
        "from pyspark.ml.feature import OneHotEncoder, StringIndexer\n",
        "\n",
        "indexer = StringIndexer(inputCol=\"book_id\", outputCol=\"book_idIndex\").setHandleInvalid(\"keep\")\n",
        "books = indexer.fit(books).transform(books)\n",
        "encoder = OneHotEncoder(inputCol=\"book_idIndex\", outputCol=\"book_idVec\").setHandleInvalid(\"keep\")\n",
        "books = encoder.fit(books).transform(books)"
      ],
      "metadata": {
        "id": "DOBZyuBzg-oD"
      },
      "execution_count": null,
      "outputs": []
    },
    {
      "cell_type": "code",
      "source": [
        "indexer = StringIndexer(inputCol=\"name\", outputCol=\"nameIndex\").setHandleInvalid(\"keep\")\n",
        "books = indexer.fit(books).transform(books)\n",
        "encoder = OneHotEncoder(inputCol=\"nameIndex\", outputCol=\"nameVec\").setHandleInvalid(\"keep\")\n",
        "books = encoder.fit(books).transform(books)"
      ],
      "metadata": {
        "id": "3MOEyP0S0s3Q"
      },
      "execution_count": null,
      "outputs": []
    },
    {
      "cell_type": "code",
      "source": [
        "indexer = StringIndexer(inputCol=\"description\", outputCol=\"descriptionIndex\").setHandleInvalid(\"keep\")\n",
        "books = indexer.fit(books).transform(books)\n",
        "encoder = OneHotEncoder(inputCol=\"descriptionIndex\", outputCol=\"descriptionVec\").setHandleInvalid(\"keep\")\n",
        "books = encoder.fit(books).transform(books)"
      ],
      "metadata": {
        "id": "jvAl7KqTkGY2"
      },
      "execution_count": null,
      "outputs": []
    },
    {
      "cell_type": "code",
      "source": [
        "books.show()"
      ],
      "metadata": {
        "id": "bBYoRl6zkPKh",
        "colab": {
          "base_uri": "https://localhost:8080/"
        },
        "outputId": "a1754219-9667-4706-9037-9c02f9c8e4b3"
      },
      "execution_count": null,
      "outputs": [
        {
          "output_type": "stream",
          "name": "stdout",
          "text": [
            "+--------------------+--------------------+--------------------+------------+-----------------+---------+-----------------+----------------+-----------------+\n",
            "|             book_id|                name|         description|book_idIndex|       book_idVec|nameIndex|          nameVec|descriptionIndex|   descriptionVec|\n",
            "+--------------------+--------------------+--------------------+------------+-----------------+---------+-----------------+----------------+-----------------+\n",
            "|                4833|   The Glass Castle |A tender, moving ...|       113.0|(235,[113],[1.0])|    173.0|(196,[173],[1.0])|            85.0| (178,[85],[1.0])|\n",
            "|Jeannette Walls g...| they lived like ...| moving among Sou...|       177.0|(235,[177],[1.0])|     65.0| (196,[65],[1.0])|            34.0| (178,[34],[1.0])|\n",
            "|               Later| when the money r...| or the romance o...|       178.0|(235,[178],[1.0])|     69.0| (196,[69],[1.0])|            38.0| (178,[38],[1.0])|\n",
            "|What is so astoni...| but that she des...|   but also a tender|       206.0|(235,[206],[1.0])|     35.0| (196,[35],[1.0])|            24.0| (178,[24],[1.0])|\n",
            "|     For two decades| Jeannette Walls ...|                null|       163.0|(235,[163],[1.0])|     12.0| (196,[12],[1.0])|           177.0|(178,[177],[1.0])|\n",
            "|                 590|Night (The Night ...|Born into a Jewis...|       124.0|(235,[124],[1.0])|    138.0|(196,[138],[1.0])|            98.0| (178,[98],[1.0])|\n",
            "|                4264|Angela's Ashes (F...|Imbued on every p...|        94.0| (235,[94],[1.0])|     82.0| (196,[82],[1.0])|           115.0|(178,[115],[1.0])|\n",
            "|\"\"When I look bac...|           of course| a miserable chil...|         2.0|  (235,[2],[1.0])|     55.0| (196,[55],[1.0])|             8.0|  (178,[8],[1.0])|\n",
            "|So begins the Pul...| born in Depressi...| Ireland. Frank's...|       193.0|(235,[193],[1.0])|     33.0| (196,[33],[1.0])|             3.0|  (178,[3],[1.0])|\n",
            "|Perhaps it is sto...| begging a pig's ...| Frank endures po...|       186.0|(235,[186],[1.0])|     31.0| (196,[31],[1.0])|             2.0|  (178,[2],[1.0])|\n",
            "|      Angela's Ashes| imbued on every ...| is a glorious bo...|       147.0|(235,[147],[1.0])|     46.0| (196,[46],[1.0])|            31.0| (178,[31],[1.0])|\n",
            "|                3361|    Eat, Pray, Love |A celebrated writ...|        75.0| (235,[75],[1.0])|    100.0|(196,[100],[1.0])|            80.0| (178,[80],[1.0])|\n",
            "|Around the time E...| she went through...| ambitious Americ...|       148.0|(235,[148],[1.0])|     57.0| (196,[57],[1.0])|            11.0| (178,[11],[1.0])|\n",
            "|To recover from a...| Gilbert took a r...| she got rid of h...|       203.0|(235,[203],[1.0])|      8.0|  (196,[8],[1.0])|            41.0| (178,[41],[1.0])|\n",
            "|An intensely arti...|                 Eat|                Pray|       143.0|(235,[143],[1.0])|      5.0|  (196,[5],[1.0])|             4.0|  (178,[4],[1.0])|\n",
            "|                4535|Into Thin Air: A ...|\"A bank of clouds...|       106.0|(235,[106],[1.0])|    118.0|(196,[118],[1.0])|            59.0| (178,[59],[1.0])|\n",
            "|                 518|Tuesdays with Mor...|Maybe it was a gr...|       121.0|(235,[121],[1.0])|    188.0|(196,[188],[1.0])|           128.0|(178,[128],[1.0])|\n",
            "|               Maybe|          like Mitch| you lost track o...|       181.0|(235,[181],[1.0])|     52.0| (196,[52],[1.0])|            55.0| (178,[55],[1.0])|\n",
            "|Mitch Albom had t...| just as they use...|                null|       183.0|(235,[183],[1.0])|     51.0| (196,[51],[1.0])|           177.0|(178,[177],[1.0])|\n",
            "|                3781|Running with Scis...|The true story of...|        85.0| (235,[85],[1.0])|    158.0|(196,[158],[1.0])|           150.0|(178,[150],[1.0])|\n",
            "+--------------------+--------------------+--------------------+------------+-----------------+---------+-----------------+----------------+-----------------+\n",
            "only showing top 20 rows\n",
            "\n"
          ]
        }
      ]
    },
    {
      "cell_type": "code",
      "source": [
        "books.printSchema()"
      ],
      "metadata": {
        "id": "m1O2RmGL0kuH",
        "colab": {
          "base_uri": "https://localhost:8080/"
        },
        "outputId": "8d12a664-68e6-4faa-e270-1fe361ab92bd"
      },
      "execution_count": null,
      "outputs": [
        {
          "output_type": "stream",
          "name": "stdout",
          "text": [
            "root\n",
            " |-- book_id: string (nullable = true)\n",
            " |-- name: string (nullable = true)\n",
            " |-- description: string (nullable = true)\n",
            " |-- book_idIndex: double (nullable = false)\n",
            " |-- book_idVec: vector (nullable = true)\n",
            " |-- nameIndex: double (nullable = false)\n",
            " |-- nameVec: vector (nullable = true)\n",
            " |-- descriptionIndex: double (nullable = false)\n",
            " |-- descriptionVec: vector (nullable = true)\n",
            "\n"
          ]
        }
      ]
    },
    {
      "cell_type": "code",
      "execution_count": null,
      "metadata": {
        "id": "BPSsfqHGnq6_"
      },
      "outputs": [],
      "source": [
        "# define assembler\n",
        "\n",
        "assembler = VectorAssembler(inputCols = [\"book_idVec\", \"nameVec\", \"descriptionVec\"], outputCol = \"features\")\n",
        "\n",
        "output = assembler.setHandleInvalid(\"skip\").transform(books).select('book_id', 'name', 'features')"
      ]
    },
    {
      "cell_type": "code",
      "source": [
        "output.show()"
      ],
      "metadata": {
        "id": "ZZ32jPfdMrkC",
        "colab": {
          "base_uri": "https://localhost:8080/"
        },
        "outputId": "f2e0e40f-23d0-42de-c617-871b85146913"
      },
      "execution_count": null,
      "outputs": [
        {
          "output_type": "stream",
          "name": "stdout",
          "text": [
            "+--------------------+--------------------+--------------------+\n",
            "|             book_id|                name|            features|\n",
            "+--------------------+--------------------+--------------------+\n",
            "|                4833|   The Glass Castle |(609,[113,408,516...|\n",
            "|Jeannette Walls g...| they lived like ...|(609,[177,300,465...|\n",
            "|               Later| when the money r...|(609,[178,304,469...|\n",
            "|What is so astoni...| but that she des...|(609,[206,270,455...|\n",
            "|     For two decades| Jeannette Walls ...|(609,[163,247,608...|\n",
            "|                 590|Night (The Night ...|(609,[124,373,529...|\n",
            "|                4264|Angela's Ashes (F...|(609,[94,317,546]...|\n",
            "|\"\"When I look bac...|           of course|(609,[2,290,439],...|\n",
            "|So begins the Pul...| born in Depressi...|(609,[193,268,434...|\n",
            "|Perhaps it is sto...| begging a pig's ...|(609,[186,266,433...|\n",
            "|      Angela's Ashes| imbued on every ...|(609,[147,281,462...|\n",
            "|                3361|    Eat, Pray, Love |(609,[75,335,511]...|\n",
            "|Around the time E...| she went through...|(609,[148,292,442...|\n",
            "|To recover from a...| Gilbert took a r...|(609,[203,243,472...|\n",
            "|An intensely arti...|                 Eat|(609,[143,240,435...|\n",
            "|                4535|Into Thin Air: A ...|(609,[106,353,490...|\n",
            "|                 518|Tuesdays with Mor...|(609,[121,423,559...|\n",
            "|               Maybe|          like Mitch|(609,[181,287,486...|\n",
            "|Mitch Albom had t...| just as they use...|(609,[183,286,608...|\n",
            "|                3781|Running with Scis...|(609,[85,393,581]...|\n",
            "+--------------------+--------------------+--------------------+\n",
            "only showing top 20 rows\n",
            "\n"
          ]
        }
      ]
    },
    {
      "cell_type": "code",
      "source": [
        "output_limited = output.limit(135)"
      ],
      "metadata": {
        "id": "XfGdGywSzmtS"
      },
      "execution_count": null,
      "outputs": []
    },
    {
      "cell_type": "markdown",
      "metadata": {
        "id": "Gaf521BujzPz"
      },
      "source": [
        "Creating k-means clustering model"
      ]
    },
    {
      "cell_type": "code",
      "execution_count": null,
      "metadata": {
        "id": "crUoRkUDkAZt",
        "colab": {
          "base_uri": "https://localhost:8080/"
        },
        "outputId": "49200e89-de75-44ea-fa75-71222549453f"
      },
      "outputs": [
        {
          "output_type": "stream",
          "name": "stdout",
          "text": [
            "Model is successfully trained!\n"
          ]
        }
      ],
      "source": [
        "# define kmeans clustering algorithm\n",
        "\n",
        "kmeans = KMeans(featuresCol=assembler.getOutputCol(), predictionCol=\"cluster\", k=10)\n",
        "model = kmeans.fit(output_limited)\n",
        "print(\"Model is successfully trained!\")"
      ]
    },
    {
      "cell_type": "markdown",
      "metadata": {
        "id": "eYxHj8LjkXgh"
      },
      "source": [
        "Clustering the data"
      ]
    },
    {
      "cell_type": "code",
      "execution_count": null,
      "metadata": {
        "id": "myRCku06kXBf"
      },
      "outputs": [],
      "source": [
        "prediction = model.transform(output)"
      ]
    },
    {
      "cell_type": "code",
      "source": [
        "prediction.show()"
      ],
      "metadata": {
        "colab": {
          "base_uri": "https://localhost:8080/"
        },
        "id": "xz7v52R3Yykz",
        "outputId": "550adb04-b042-472e-cb54-4dc2cb7d2e08"
      },
      "execution_count": null,
      "outputs": [
        {
          "output_type": "stream",
          "name": "stdout",
          "text": [
            "+--------------------+--------------------+--------------------+-------+\n",
            "|             book_id|                name|            features|cluster|\n",
            "+--------------------+--------------------+--------------------+-------+\n",
            "|                4833|   The Glass Castle |(609,[113,408,516...|      0|\n",
            "|Jeannette Walls g...| they lived like ...|(609,[177,300,465...|      0|\n",
            "|               Later| when the money r...|(609,[178,304,469...|      0|\n",
            "|What is so astoni...| but that she des...|(609,[206,270,455...|      0|\n",
            "|     For two decades| Jeannette Walls ...|(609,[163,247,608...|      3|\n",
            "|                 590|Night (The Night ...|(609,[124,373,529...|      0|\n",
            "|                4264|Angela's Ashes (F...|(609,[94,317,546]...|      0|\n",
            "|\"\"When I look bac...|           of course|(609,[2,290,439],...|      0|\n",
            "|So begins the Pul...| born in Depressi...|(609,[193,268,434...|      1|\n",
            "|Perhaps it is sto...| begging a pig's ...|(609,[186,266,433...|      0|\n",
            "|      Angela's Ashes| imbued on every ...|(609,[147,281,462...|      0|\n",
            "|                3361|    Eat, Pray, Love |(609,[75,335,511]...|      0|\n",
            "|Around the time E...| she went through...|(609,[148,292,442...|      0|\n",
            "|To recover from a...| Gilbert took a r...|(609,[203,243,472...|      0|\n",
            "|An intensely arti...|                 Eat|(609,[143,240,435...|      0|\n",
            "|                4535|Into Thin Air: A ...|(609,[106,353,490...|      0|\n",
            "|                 518|Tuesdays with Mor...|(609,[121,423,559...|      0|\n",
            "|               Maybe|          like Mitch|(609,[181,287,486...|      0|\n",
            "|Mitch Albom had t...| just as they use...|(609,[183,286,608...|      3|\n",
            "|                3781|Running with Scis...|(609,[85,393,581]...|      0|\n",
            "+--------------------+--------------------+--------------------+-------+\n",
            "only showing top 20 rows\n",
            "\n"
          ]
        }
      ]
    },
    {
      "cell_type": "code",
      "source": [
        "# print the books found in the first three clusters\n",
        "\n",
        "for cluster in range(3):\n",
        "  print(f\"Books in Cluster {cluster}:\")\n",
        "  cluster_books = prediction.filter(prediction.cluster == cluster)\n",
        "  cluster_books.show(truncate=False)"
      ],
      "metadata": {
        "colab": {
          "base_uri": "https://localhost:8080/"
        },
        "id": "7C2xqRYgQVG_",
        "outputId": "28e6b4cf-f2c2-447a-b561-71a1827765f3"
      },
      "execution_count": null,
      "outputs": [
        {
          "output_type": "stream",
          "name": "stdout",
          "text": [
            "Books in Cluster 0:\n",
            "+--------------------------------------------------------------------------------------------------------------------------------------------------------------------------------------------------------------------------------------+--------------------------------------------------------------------------------------------------------------------------------------------------------------------------+---------------------------------+-------+\n",
            "|book_id                                                                                                                                                                                                                               |name                                                                                                                                                                      |features                         |cluster|\n",
            "+--------------------------------------------------------------------------------------------------------------------------------------------------------------------------------------------------------------------------------------+--------------------------------------------------------------------------------------------------------------------------------------------------------------------------+---------------------------------+-------+\n",
            "|4833                                                                                                                                                                                                                                  |The Glass Castle                                                                                                                                                          |(609,[113,408,516],[1.0,1.0,1.0])|0      |\n",
            "|Jeannette Walls grew up with parents whose ideals and stubborn nonconformity were both their curse and their salvation. Rex and Rose Mary Walls had four children. In the beginning                                                   | they lived like nomads                                                                                                                                                   |(609,[177,300,465],[1.0,1.0,1.0])|0      |\n",
            "|Later                                                                                                                                                                                                                                 | when the money ran out                                                                                                                                                   |(609,[178,304,469],[1.0,1.0,1.0])|0      |\n",
            "|What is so astonishing about Jeannette Walls is not just that she had the guts and tenacity and intelligence to get out                                                                                                               | but that she describes her parents with such deep affection and generosity. Hers is a story of triumph against all odds                                                  |(609,[206,270,455],[1.0,1.0,1.0])|0      |\n",
            "|590                                                                                                                                                                                                                                   |Night (The Night Trilogy, #1)                                                                                                                                             |(609,[124,373,529],[1.0,1.0,1.0])|0      |\n",
            "|4264                                                                                                                                                                                                                                  |Angela's Ashes (Frank McCourt, #1)                                                                                                                                        |(609,[94,317,546],[1.0,1.0,1.0]) |0      |\n",
            "|\"\"When I look back on my childhood I wonder how I managed to survive at all. It was                                                                                                                                                   | of course                                                                                                                                                                |(609,[2,290,439],[1.0,1.0,1.0])  |0      |\n",
            "|Perhaps it is story that accounts for Frank's survival. Wearing rags for diapers                                                                                                                                                      | begging a pig's head for Christmas dinner and gathering coal from the roadside to light a fire                                                                           |(609,[186,266,433],[1.0,1.0,1.0])|0      |\n",
            "|Angela's Ashes                                                                                                                                                                                                                        | imbued on every page with Frank McCourt's astounding humor and compassion                                                                                                |(609,[147,281,462],[1.0,1.0,1.0])|0      |\n",
            "|3361                                                                                                                                                                                                                                  |Eat, Pray, Love                                                                                                                                                           |(609,[75,335,511],[1.0,1.0,1.0]) |0      |\n",
            "|Around the time Elizabeth Gilbert turned thirty                                                                                                                                                                                       | she went through an early-onslaught midlife crisis. She had everything an educated                                                                                       |(609,[148,292,442],[1.0,1.0,1.0])|0      |\n",
            "|To recover from all this                                                                                                                                                                                                              | Gilbert took a radical step. In order to give herself the time and space to find out who she really was and what she really wanted                                       |(609,[203,243,472],[1.0,1.0,1.0])|0      |\n",
            "|An intensely articulate and moving memoir of self-discovery                                                                                                                                                                           | Eat                                                                                                                                                                      |(609,[143,240,435],[1.0,1.0,1.0])|0      |\n",
            "|4535                                                                                                                                                                                                                                  |Into Thin Air: A Personal Account of the Mount Everest Disaster                                                                                                           |(609,[106,353,490],[1.0,1.0,1.0])|0      |\n",
            "|518                                                                                                                                                                                                                                   |Tuesdays with Morrie                                                                                                                                                      |(609,[121,423,559],[1.0,1.0,1.0])|0      |\n",
            "|Maybe                                                                                                                                                                                                                                 | like Mitch                                                                                                                                                               |(609,[181,287,486],[1.0,1.0,1.0])|0      |\n",
            "|3781                                                                                                                                                                                                                                  |Running with Scissors                                                                                                                                                     |(609,[85,393,581],[1.0,1.0,1.0]) |0      |\n",
            "|Running with Scissors is the true story of a boy whose mother (a poet with delusions of Anne Sexton) gave him away to be raised by her unorthodox psychiatrist who bore a striking resemblance to Santa Claus. So at the age of twelve| Burroughs found himself amidst Victorian squalor living with the doctor�s bizarre family                                                                                 |(609,[190,239,444],[1.0,1.0,1.0])|0      |\n",
            "|3190                                                                                                                                                                                                                                  | Into the Wild                                                                                                                                                            |(609,[70,246,547],[1.0,1.0,1.0]) |0      |\n",
            "|Immediately after graduating from college in 1991                                                                                                                                                                                     | McCandless had roamed through the West and Southwest on a vision quest like those made by his heroes Jack London and John Muir. In the Mojave Desert he abandoned his car|(609,[171,252,474],[1.0,1.0,1.0])|0      |\n",
            "+--------------------------------------------------------------------------------------------------------------------------------------------------------------------------------------------------------------------------------------+--------------------------------------------------------------------------------------------------------------------------------------------------------------------------+---------------------------------+-------+\n",
            "only showing top 20 rows\n",
            "\n",
            "Books in Cluster 1:\n",
            "+------------------------------------------------------------+-----------------------------------------------------------------------------------------------+---------------------------------+-------+\n",
            "|book_id                                                     |name                                                                                           |features                         |cluster|\n",
            "+------------------------------------------------------------+-----------------------------------------------------------------------------------------------+---------------------------------+-------+\n",
            "|So begins the Pulitzer Prize winning memoir of Frank McCourt| born in Depression-era Brooklyn to recent Irish immigrants and raised in the slums of Limerick|(609,[193,268,434],[1.0,1.0,1.0])|1      |\n",
            "+------------------------------------------------------------+-----------------------------------------------------------------------------------------------+---------------------------------+-------+\n",
            "\n",
            "Books in Cluster 2:\n",
            "+-------+----------------------------------------------------------------------------------------------------+--------------------------------+-------+\n",
            "|book_id|name                                                                                                |features                        |cluster|\n",
            "+-------+----------------------------------------------------------------------------------------------------+--------------------------------+-------+\n",
            "|2089   |Be the Ultimate Assistant: A celebrity assistant's secrets to working with any high-powered employer|(609,[36,320,497],[1.0,1.0,1.0])|2      |\n",
            "+-------+----------------------------------------------------------------------------------------------------+--------------------------------+-------+\n",
            "\n"
          ]
        }
      ]
    },
    {
      "cell_type": "code",
      "source": [
        "# predict the cluster assignment for the book\n",
        "book136_cluster = model.transform(output).collect()[136].cluster\n",
        "\n",
        "# print the cluster assignment\n",
        "print(f'Book 136 belongs to cluster {book136_cluster}')"
      ],
      "metadata": {
        "colab": {
          "base_uri": "https://localhost:8080/"
        },
        "id": "_k7GuP57Enza",
        "outputId": "bd5d69cd-4258-4a83-cbda-95b7da0f6faa"
      },
      "execution_count": null,
      "outputs": [
        {
          "output_type": "stream",
          "name": "stdout",
          "text": [
            "Book 136 belongs to cluster 0\n"
          ]
        }
      ]
    },
    {
      "cell_type": "code",
      "source": [
        "# convert the prediction dataframe to a pandas dataframe\n",
        "predictions_pd = prediction.toPandas()\n",
        "\n",
        "# plot the clusters using a scatter plot\n",
        "import seaborn as sns\n",
        "import matplotlib.pyplot as plt\n",
        "\n",
        "sns.scatterplot(data=predictions_pd[predictions_pd.cluster.isin(range(5))])\n",
        "plt.axis('off')\n",
        "plt.show()"
      ],
      "metadata": {
        "colab": {
          "base_uri": "https://localhost:8080/",
          "height": 248
        },
        "id": "HDuXE-BiVScQ",
        "outputId": "1f8f4b41-01b5-482b-c677-e78f02a196dd"
      },
      "execution_count": null,
      "outputs": [
        {
          "output_type": "display_data",
          "data": {
            "text/plain": [
              "<Figure size 432x288 with 1 Axes>"
            ],
            "image/png": "[encoded data removed]"
          },
          "metadata": {
            "needs_background": "light"
          }
        }
      ]
    }
  ],
  "metadata": {
    "colab": {
      "provenance": []
    },
    "kernelspec": {
      "display_name": "Python 3",
      "name": "python3"
    },
    "language_info": {
      "name": "python"
    }
  },
  "nbformat": 4,
  "nbformat_minor": 0
}